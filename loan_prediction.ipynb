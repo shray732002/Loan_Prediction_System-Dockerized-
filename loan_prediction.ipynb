{
 "cells": [
  {
   "cell_type": "code",
   "execution_count": 35,
   "id": "4e16ca56",
   "metadata": {},
   "outputs": [],
   "source": [
    "import pandas as pd\n",
    "import numpy as np\n",
    "import matplotlib.pyplot as plt\n",
    "import seaborn as sns\n",
    "%matplotlib inline"
   ]
  },
  {
   "cell_type": "code",
   "execution_count": 36,
   "id": "594a3118",
   "metadata": {},
   "outputs": [],
   "source": [
    "data1 = pd.read_csv('loan_train.csv')\n",
    "data2 = pd.read_csv('loan_test.csv')"
   ]
  },
  {
   "cell_type": "code",
   "execution_count": 37,
   "id": "9ef67f90",
   "metadata": {},
   "outputs": [
    {
     "data": {
      "text/plain": [
       "Loan_ID               object\n",
       "Gender                object\n",
       "Married               object\n",
       "Dependents            object\n",
       "Education             object\n",
       "Self_Employed         object\n",
       "ApplicantIncome        int64\n",
       "CoapplicantIncome    float64\n",
       "LoanAmount           float64\n",
       "Loan_Amount_Term     float64\n",
       "Credit_History       float64\n",
       "Property_Area         object\n",
       "Loan_Status           object\n",
       "dtype: object"
      ]
     },
     "execution_count": 37,
     "metadata": {},
     "output_type": "execute_result"
    }
   ],
   "source": [
    "data1.dtypes"
   ]
  },
  {
   "cell_type": "markdown",
   "id": "f51eda61",
   "metadata": {},
   "source": [
    "## EDA"
   ]
  },
  {
   "cell_type": "code",
   "execution_count": 38,
   "id": "34926202",
   "metadata": {},
   "outputs": [
    {
     "data": {
      "application/vnd.jupyter.widget-view+json": {
       "model_id": "9ff08369888f473da839e3d0b24425d2",
       "version_major": 2,
       "version_minor": 0
      },
      "text/plain": [
       "                                             |                                          | [  0%]   00:00 -> (?…"
      ]
     },
     "metadata": {},
     "output_type": "display_data"
    }
   ],
   "source": [
    "import sweetviz\n",
    "my_report = sweetviz.compare([data1,\"Train\"],[data2,\"Test\"],target_feat = 'Loan_Status')"
   ]
  },
  {
   "cell_type": "code",
   "execution_count": 39,
   "id": "ff79aada",
   "metadata": {},
   "outputs": [
    {
     "name": "stdout",
     "output_type": "stream",
     "text": [
      "Report Report.html was generated! NOTEBOOK/COLAB USERS: the web browser MAY not pop up, regardless, the report IS saved in your notebook/colab files.\n"
     ]
    }
   ],
   "source": [
    "my_report.show_html('Report.html')"
   ]
  },
  {
   "cell_type": "code",
   "execution_count": 40,
   "id": "99e3867a",
   "metadata": {},
   "outputs": [
    {
     "data": {
      "application/vnd.jupyter.widget-view+json": {
       "model_id": "aa66ed187e724a33be3cfd5b48e61d70",
       "version_major": 2,
       "version_minor": 0
      },
      "text/plain": [
       "                                             |                                          | [  0%]   00:00 -> (?…"
      ]
     },
     "metadata": {},
     "output_type": "display_data"
    }
   ],
   "source": [
    "my_report = sweetviz.analyze([data2,\"Test\"])"
   ]
  },
  {
   "cell_type": "code",
   "execution_count": 41,
   "id": "91ad76ae",
   "metadata": {},
   "outputs": [
    {
     "name": "stdout",
     "output_type": "stream",
     "text": [
      "Report Report_test.html was generated! NOTEBOOK/COLAB USERS: the web browser MAY not pop up, regardless, the report IS saved in your notebook/colab files.\n"
     ]
    }
   ],
   "source": [
    "my_report.show_html('Report_test.html')"
   ]
  },
  {
   "cell_type": "markdown",
   "id": "0dbc594e",
   "metadata": {},
   "source": [
    "##### Observations"
   ]
  },
  {
   "cell_type": "markdown",
   "id": "7ef31954",
   "metadata": {},
   "source": [
    "1) Male are more than female \n",
    "\n",
    "2) Gender has 2.1% missing values so we can simply mention them as Males as Males are in large amount\n",
    "\n",
    "3) Number of people who are married are more than unmarried\n",
    "\n",
    "4) Married has only 0.5% missing values so we can simply mention them as Married\n",
    "\n",
    "5) Self Employed has around 5% of missing values i.e 32 and 23 missing values in train and test set respectively\n",
    "\n",
    "6) Loan_Amount column is highly correlated with ApplicantIncome\n",
    "\n",
    "7) Credit_History is 1 when Loan_Status is 1 otherwise 0 in most of the cases\n",
    "\n",
    "8) Credit_History plays a major role in deciding the Loan_Status"
   ]
  },
  {
   "cell_type": "markdown",
   "id": "cd96b0c7",
   "metadata": {},
   "source": [
    "### Treating missing values"
   ]
  },
  {
   "cell_type": "code",
   "execution_count": 42,
   "id": "cac9de69",
   "metadata": {},
   "outputs": [],
   "source": [
    "data1['Gender'] = data1['Gender'].fillna('Male')\n",
    "data2['Gender'] = data2['Gender'].fillna('Male')"
   ]
  },
  {
   "cell_type": "code",
   "execution_count": 43,
   "id": "fcd1cf02",
   "metadata": {},
   "outputs": [],
   "source": [
    "data1['Married'] = data1['Married'].fillna('Yes')"
   ]
  },
  {
   "cell_type": "code",
   "execution_count": 44,
   "id": "94ec8327",
   "metadata": {},
   "outputs": [
    {
     "data": {
      "text/html": [
       "<div>\n",
       "<style scoped>\n",
       "    .dataframe tbody tr th:only-of-type {\n",
       "        vertical-align: middle;\n",
       "    }\n",
       "\n",
       "    .dataframe tbody tr th {\n",
       "        vertical-align: top;\n",
       "    }\n",
       "\n",
       "    .dataframe thead th {\n",
       "        text-align: right;\n",
       "    }\n",
       "</style>\n",
       "<table border=\"1\" class=\"dataframe\">\n",
       "  <thead>\n",
       "    <tr style=\"text-align: right;\">\n",
       "      <th></th>\n",
       "      <th>Loan_ID</th>\n",
       "      <th>Gender</th>\n",
       "      <th>Married</th>\n",
       "      <th>Dependents</th>\n",
       "      <th>Education</th>\n",
       "      <th>Self_Employed</th>\n",
       "      <th>ApplicantIncome</th>\n",
       "      <th>CoapplicantIncome</th>\n",
       "      <th>LoanAmount</th>\n",
       "      <th>Loan_Amount_Term</th>\n",
       "      <th>Credit_History</th>\n",
       "      <th>Property_Area</th>\n",
       "      <th>Loan_Status</th>\n",
       "    </tr>\n",
       "  </thead>\n",
       "  <tbody>\n",
       "    <tr>\n",
       "      <th>0</th>\n",
       "      <td>LP001002</td>\n",
       "      <td>Male</td>\n",
       "      <td>No</td>\n",
       "      <td>0</td>\n",
       "      <td>Graduate</td>\n",
       "      <td>No</td>\n",
       "      <td>5849</td>\n",
       "      <td>0.0</td>\n",
       "      <td>NaN</td>\n",
       "      <td>360.0</td>\n",
       "      <td>1.0</td>\n",
       "      <td>Urban</td>\n",
       "      <td>Y</td>\n",
       "    </tr>\n",
       "    <tr>\n",
       "      <th>1</th>\n",
       "      <td>LP001003</td>\n",
       "      <td>Male</td>\n",
       "      <td>Yes</td>\n",
       "      <td>1</td>\n",
       "      <td>Graduate</td>\n",
       "      <td>No</td>\n",
       "      <td>4583</td>\n",
       "      <td>1508.0</td>\n",
       "      <td>128.0</td>\n",
       "      <td>360.0</td>\n",
       "      <td>1.0</td>\n",
       "      <td>Rural</td>\n",
       "      <td>N</td>\n",
       "    </tr>\n",
       "    <tr>\n",
       "      <th>2</th>\n",
       "      <td>LP001005</td>\n",
       "      <td>Male</td>\n",
       "      <td>Yes</td>\n",
       "      <td>0</td>\n",
       "      <td>Graduate</td>\n",
       "      <td>Yes</td>\n",
       "      <td>3000</td>\n",
       "      <td>0.0</td>\n",
       "      <td>66.0</td>\n",
       "      <td>360.0</td>\n",
       "      <td>1.0</td>\n",
       "      <td>Urban</td>\n",
       "      <td>Y</td>\n",
       "    </tr>\n",
       "    <tr>\n",
       "      <th>3</th>\n",
       "      <td>LP001006</td>\n",
       "      <td>Male</td>\n",
       "      <td>Yes</td>\n",
       "      <td>0</td>\n",
       "      <td>Not Graduate</td>\n",
       "      <td>No</td>\n",
       "      <td>2583</td>\n",
       "      <td>2358.0</td>\n",
       "      <td>120.0</td>\n",
       "      <td>360.0</td>\n",
       "      <td>1.0</td>\n",
       "      <td>Urban</td>\n",
       "      <td>Y</td>\n",
       "    </tr>\n",
       "    <tr>\n",
       "      <th>4</th>\n",
       "      <td>LP001008</td>\n",
       "      <td>Male</td>\n",
       "      <td>No</td>\n",
       "      <td>0</td>\n",
       "      <td>Graduate</td>\n",
       "      <td>No</td>\n",
       "      <td>6000</td>\n",
       "      <td>0.0</td>\n",
       "      <td>141.0</td>\n",
       "      <td>360.0</td>\n",
       "      <td>1.0</td>\n",
       "      <td>Urban</td>\n",
       "      <td>Y</td>\n",
       "    </tr>\n",
       "  </tbody>\n",
       "</table>\n",
       "</div>"
      ],
      "text/plain": [
       "    Loan_ID Gender Married Dependents     Education Self_Employed  \\\n",
       "0  LP001002   Male      No          0      Graduate            No   \n",
       "1  LP001003   Male     Yes          1      Graduate            No   \n",
       "2  LP001005   Male     Yes          0      Graduate           Yes   \n",
       "3  LP001006   Male     Yes          0  Not Graduate            No   \n",
       "4  LP001008   Male      No          0      Graduate            No   \n",
       "\n",
       "   ApplicantIncome  CoapplicantIncome  LoanAmount  Loan_Amount_Term  \\\n",
       "0             5849                0.0         NaN             360.0   \n",
       "1             4583             1508.0       128.0             360.0   \n",
       "2             3000                0.0        66.0             360.0   \n",
       "3             2583             2358.0       120.0             360.0   \n",
       "4             6000                0.0       141.0             360.0   \n",
       "\n",
       "   Credit_History Property_Area Loan_Status  \n",
       "0             1.0         Urban           Y  \n",
       "1             1.0         Rural           N  \n",
       "2             1.0         Urban           Y  \n",
       "3             1.0         Urban           Y  \n",
       "4             1.0         Urban           Y  "
      ]
     },
     "execution_count": 44,
     "metadata": {},
     "output_type": "execute_result"
    }
   ],
   "source": [
    "data1.head()"
   ]
  },
  {
   "cell_type": "code",
   "execution_count": 45,
   "id": "5f6fb79c",
   "metadata": {},
   "outputs": [
    {
     "name": "stderr",
     "output_type": "stream",
     "text": [
      "C:\\Users\\shray\\anaconda3\\envs\\loan_prediction\\lib\\site-packages\\ipykernel_launcher.py:12: FutureWarning: The default value of regex will change from True to False in a future version. In addition, single character regular expressions will *not* be treated as literal strings when regex=True.\n",
      "  if sys.path[0] == \"\":\n",
      "C:\\Users\\shray\\anaconda3\\envs\\loan_prediction\\lib\\site-packages\\ipykernel_launcher.py:13: FutureWarning: The default value of regex will change from True to False in a future version. In addition, single character regular expressions will *not* be treated as literal strings when regex=True.\n",
      "  del sys.path[0]\n"
     ]
    }
   ],
   "source": [
    "data1.drop('Loan_ID',axis = 1,inplace = True)\n",
    "data2.drop('Loan_ID',axis = 1,inplace = True)\n",
    "data1['Gender'] = data1['Gender'].map({'Male':1,'Female':0})\n",
    "data1['Married'] = data1['Married'].map({'Yes':1,'No':0})\n",
    "data1['Self_Employed'] = data1['Self_Employed'].map({'Yes':1,'No':0})\n",
    "data1['Loan_Status'] = data1['Loan_Status'].map({'Y':1,'N':0})\n",
    "data1['Education'] = data1['Education'].map({'Graduate':1,'Not Graduate':0})\n",
    "data2['Gender'] = data2['Gender'].map({'Male':1,'Female':0})\n",
    "data2['Married'] = data2['Married'].map({'Yes':1,'No':0})\n",
    "data2['Self_Employed'] = data2['Self_Employed'].map({'Yes':1,'No':0})\n",
    "data2['Education'] = data2['Education'].map({'Graduate':1,'Not Graduate':0})\n",
    "data1['Dependents'] = data1['Dependents'].str.replace('+','')\n",
    "data2['Dependents'] = data2['Dependents'].str.replace('+','')"
   ]
  },
  {
   "cell_type": "code",
   "execution_count": 46,
   "id": "d9c1d322",
   "metadata": {},
   "outputs": [
    {
     "data": {
      "text/plain": [
       "array(['0', '1', '2', '3', nan], dtype=object)"
      ]
     },
     "execution_count": 46,
     "metadata": {},
     "output_type": "execute_result"
    }
   ],
   "source": [
    "data1['Dependents'].unique()"
   ]
  },
  {
   "cell_type": "code",
   "execution_count": 47,
   "id": "2ce577d5",
   "metadata": {},
   "outputs": [],
   "source": [
    "cols = ['Married','Dependents']\n",
    "X = data1[cols]\n",
    "from sklearn.experimental import enable_iterative_imputer\n",
    "from sklearn.impute import IterativeImputer\n",
    "impute_it = IterativeImputer()\n",
    "X = impute_it.fit_transform(X)\n",
    "\n",
    "for i in range(len(X)):\n",
    "    if X[i][1]<0.5:\n",
    "        X[i][1] = 0\n",
    "    elif X[i][1]>=0.5 and X[i][1]<1.5:\n",
    "        X[i][1] = 1\n",
    "    elif X[i][1]>=1.5 and X[i][1]<2.5:\n",
    "        X[i][1] = 2\n",
    "    else:\n",
    "        X[i][1] = 3\n",
    "X = pd.DataFrame(X,columns = cols)        \n",
    "data1['Dependents'] = X['Dependents']"
   ]
  },
  {
   "cell_type": "code",
   "execution_count": 48,
   "id": "17af38c5",
   "metadata": {},
   "outputs": [],
   "source": [
    "X = data2[cols]\n",
    "X = impute_it.fit_transform(X)\n",
    "for i in range(len(X)):\n",
    "    if X[i][1]<0.5:\n",
    "        X[i][1] = 0\n",
    "    elif X[i][1]>=0.5 and X[i][1]<1.5:\n",
    "        X[i][1] = 1\n",
    "    elif X[i][1]>=1.5 and X[i][1]<2.5:\n",
    "        X[i][1] = 2\n",
    "    else:\n",
    "        X[i][1] = 3\n",
    "X = pd.DataFrame(X,columns = cols)        \n",
    "data2['Dependents'] = X['Dependents']"
   ]
  },
  {
   "cell_type": "code",
   "execution_count": 49,
   "id": "d4c7eba9",
   "metadata": {},
   "outputs": [
    {
     "data": {
      "text/plain": [
       "Gender                0\n",
       "Married               0\n",
       "Dependents            0\n",
       "Education             0\n",
       "Self_Employed        32\n",
       "ApplicantIncome       0\n",
       "CoapplicantIncome     0\n",
       "LoanAmount           22\n",
       "Loan_Amount_Term     14\n",
       "Credit_History       50\n",
       "Property_Area         0\n",
       "Loan_Status           0\n",
       "dtype: int64"
      ]
     },
     "execution_count": 49,
     "metadata": {},
     "output_type": "execute_result"
    }
   ],
   "source": [
    "data1.isnull().sum()"
   ]
  },
  {
   "cell_type": "code",
   "execution_count": 50,
   "id": "b868a115",
   "metadata": {},
   "outputs": [],
   "source": [
    "data1['Self_Employed'] = data1['Self_Employed'].fillna(0)\n",
    "data2['Self_Employed'] = data2['Self_Employed'].fillna(0)"
   ]
  },
  {
   "cell_type": "code",
   "execution_count": 51,
   "id": "2ab7ef5c",
   "metadata": {},
   "outputs": [],
   "source": [
    "##Lets find missing values in LoanAmount column with the help of ApplicantIncome and CoapplicantIncome columns by making use of IteraticeImputer\n",
    "import math\n",
    "cols = ['ApplicantIncome','CoapplicantIncome','LoanAmount']\n",
    "X = data1[cols]\n",
    "from sklearn.experimental import enable_iterative_imputer\n",
    "from sklearn.impute import IterativeImputer\n",
    "impute_it = IterativeImputer()\n",
    "X = impute_it.fit_transform(X)\n",
    "for i in range(len(X)):\n",
    "    X[i][2] = math.floor(X[i][2])\n",
    "\n",
    "X = pd.DataFrame(X,columns = cols)\n",
    "data1['LoanAmount'] = X['LoanAmount']"
   ]
  },
  {
   "cell_type": "code",
   "execution_count": 52,
   "id": "4c371038",
   "metadata": {},
   "outputs": [],
   "source": [
    "## our missing values in LoanAmount are handled, let's do the same with test\n",
    "X = data2[cols]\n",
    "X = impute_it.fit_transform(X)\n",
    "X = impute_it.fit_transform(X)\n",
    "for i in range(len(X)):\n",
    "    X[i][2] = math.floor(X[i][2])\n",
    "\n",
    "X = pd.DataFrame(X,columns = cols)\n",
    "data2['LoanAmount'] = X['LoanAmount']"
   ]
  },
  {
   "cell_type": "code",
   "execution_count": 53,
   "id": "8c3063d0",
   "metadata": {},
   "outputs": [],
   "source": [
    "data1['Loan_Amount_Term'] = data1['Loan_Amount_Term'].fillna(data1['Loan_Amount_Term'].mode()[0])\n",
    "data2['Loan_Amount_Term'] = data2['Loan_Amount_Term'].fillna(data2['Loan_Amount_Term'].mode()[0])"
   ]
  },
  {
   "cell_type": "code",
   "execution_count": 54,
   "id": "1d105033",
   "metadata": {},
   "outputs": [],
   "source": [
    "data1.loc[(data1.Credit_History.isnull())&(data1.Loan_Status==1),'Credit_History'] = 1\n",
    "data1.loc[(data1.Credit_History.isnull()),'Credit_History'] = 0"
   ]
  },
  {
   "cell_type": "code",
   "execution_count": 55,
   "id": "fa3eed47",
   "metadata": {},
   "outputs": [],
   "source": [
    "data2['Credit_History'].fillna(data2['Credit_History'].value_counts().index[0], inplace=True)"
   ]
  },
  {
   "cell_type": "code",
   "execution_count": 56,
   "id": "5bfd8499",
   "metadata": {},
   "outputs": [
    {
     "data": {
      "text/plain": [
       "Gender               0\n",
       "Married              0\n",
       "Dependents           0\n",
       "Education            0\n",
       "Self_Employed        0\n",
       "ApplicantIncome      0\n",
       "CoapplicantIncome    0\n",
       "LoanAmount           0\n",
       "Loan_Amount_Term     0\n",
       "Credit_History       0\n",
       "Property_Area        0\n",
       "dtype: int64"
      ]
     },
     "execution_count": 56,
     "metadata": {},
     "output_type": "execute_result"
    }
   ],
   "source": [
    "data2.isnull().sum()"
   ]
  },
  {
   "cell_type": "code",
   "execution_count": 57,
   "id": "22209fb7",
   "metadata": {},
   "outputs": [],
   "source": [
    "data1[\"Property_Area\"] = data1[\"Property_Area\"].map({\"Rural\":0, \"Semiurban\":1, \"Urban\": 2,})\n",
    "data2[\"Property_Area\"] = data2[\"Property_Area\"].map({\"Rural\":0, \"Semiurban\":1, \"Urban\": 2,})"
   ]
  },
  {
   "cell_type": "code",
   "execution_count": 58,
   "id": "023f66d0",
   "metadata": {},
   "outputs": [],
   "source": [
    "data1['TotalIncome'] = data1['ApplicantIncome']+data1['CoapplicantIncome']\n",
    "data2['TotalIncome'] = data2['ApplicantIncome']+data2['CoapplicantIncome']\n",
    "data1.drop(['ApplicantIncome','CoapplicantIncome'],inplace = True,axis =1)\n",
    "data2.drop(['ApplicantIncome','CoapplicantIncome'],inplace = True,axis =1)"
   ]
  },
  {
   "cell_type": "markdown",
   "id": "54f94329",
   "metadata": {},
   "source": [
    "-------------Null vaues are handled and some sort of feature engineering is also done------------"
   ]
  },
  {
   "cell_type": "markdown",
   "id": "b9545582",
   "metadata": {},
   "source": [
    "### Transformations on graph"
   ]
  },
  {
   "cell_type": "code",
   "execution_count": 59,
   "id": "a351117d",
   "metadata": {},
   "outputs": [],
   "source": [
    "##Q-Q plot\n",
    "import scipy.stats as stat\n",
    "import pylab\n",
    "def plot_data(df,feature):\n",
    "    plt.figure(figsize = (10,6))\n",
    "    plt.subplot(1,2,1)\n",
    "    df[feature].hist()\n",
    "    plt.subplot(1,2,2)\n",
    "    stat.probplot(df[feature],dist = \"norm\",plot = pylab)\n",
    "    plt.show()"
   ]
  },
  {
   "cell_type": "code",
   "execution_count": 60,
   "id": "d4def9e4",
   "metadata": {},
   "outputs": [],
   "source": [
    "import numpy as np"
   ]
  },
  {
   "cell_type": "code",
   "execution_count": 61,
   "id": "358954d1",
   "metadata": {},
   "outputs": [
    {
     "data": {
      "image/png": "[encoded data removed]",
      "text/plain": [
       "<Figure size 1000x600 with 2 Axes>"
      ]
     },
     "metadata": {},
     "output_type": "display_data"
    }
   ],
   "source": [
    "plot_data(data1,'LoanAmount')"
   ]
  },
  {
   "cell_type": "code",
   "execution_count": 62,
   "id": "157201ad",
   "metadata": {},
   "outputs": [
    {
     "data": {
      "image/png": "[encoded data removed]",
      "text/plain": [
       "<Figure size 1000x600 with 2 Axes>"
      ]
     },
     "metadata": {},
     "output_type": "display_data"
    }
   ],
   "source": [
    "plot_data(data1,'TotalIncome')"
   ]
  },
  {
   "cell_type": "code",
   "execution_count": 63,
   "id": "fa6bc1e2",
   "metadata": {},
   "outputs": [],
   "source": [
    "data1['TotalIncome'],parameters = stat.boxcox(data1['TotalIncome'])"
   ]
  },
  {
   "cell_type": "code",
   "execution_count": 64,
   "id": "f4a559a6",
   "metadata": {},
   "outputs": [
    {
     "data": {
      "image/png": "[encoded data removed]",
      "text/plain": [
       "<Figure size 1000x600 with 2 Axes>"
      ]
     },
     "metadata": {},
     "output_type": "display_data"
    }
   ],
   "source": [
    "plot_data(data1,'TotalIncome')"
   ]
  },
  {
   "cell_type": "code",
   "execution_count": 65,
   "id": "02673a90",
   "metadata": {},
   "outputs": [],
   "source": [
    "data1['LoanAmount'],parameters = stat.boxcox(data1['LoanAmount'])"
   ]
  },
  {
   "cell_type": "code",
   "execution_count": 66,
   "id": "f7faa13b",
   "metadata": {},
   "outputs": [
    {
     "data": {
      "image/png": "[encoded data removed]",
      "text/plain": [
       "<Figure size 1000x600 with 2 Axes>"
      ]
     },
     "metadata": {},
     "output_type": "display_data"
    }
   ],
   "source": [
    "plot_data(data1,'LoanAmount')"
   ]
  },
  {
   "cell_type": "code",
   "execution_count": 67,
   "id": "9f6e8f96",
   "metadata": {},
   "outputs": [],
   "source": [
    "data1['Loan_Amount_Term'] = data1['Loan_Amount_Term']/data1['Loan_Amount_Term'].max()"
   ]
  },
  {
   "cell_type": "code",
   "execution_count": 68,
   "id": "68b89687",
   "metadata": {},
   "outputs": [
    {
     "data": {
      "text/html": [
       "<div>\n",
       "<style scoped>\n",
       "    .dataframe tbody tr th:only-of-type {\n",
       "        vertical-align: middle;\n",
       "    }\n",
       "\n",
       "    .dataframe tbody tr th {\n",
       "        vertical-align: top;\n",
       "    }\n",
       "\n",
       "    .dataframe thead th {\n",
       "        text-align: right;\n",
       "    }\n",
       "</style>\n",
       "<table border=\"1\" class=\"dataframe\">\n",
       "  <thead>\n",
       "    <tr style=\"text-align: right;\">\n",
       "      <th></th>\n",
       "      <th>Gender</th>\n",
       "      <th>Married</th>\n",
       "      <th>Dependents</th>\n",
       "      <th>Education</th>\n",
       "      <th>Self_Employed</th>\n",
       "      <th>LoanAmount</th>\n",
       "      <th>Loan_Amount_Term</th>\n",
       "      <th>Credit_History</th>\n",
       "      <th>Property_Area</th>\n",
       "      <th>Loan_Status</th>\n",
       "      <th>TotalIncome</th>\n",
       "    </tr>\n",
       "  </thead>\n",
       "  <tbody>\n",
       "    <tr>\n",
       "      <th>0</th>\n",
       "      <td>1</td>\n",
       "      <td>0</td>\n",
       "      <td>0.0</td>\n",
       "      <td>1</td>\n",
       "      <td>0.0</td>\n",
       "      <td>5.854141</td>\n",
       "      <td>0.75</td>\n",
       "      <td>1.0</td>\n",
       "      <td>2</td>\n",
       "      <td>1</td>\n",
       "      <td>1.975060</td>\n",
       "    </tr>\n",
       "    <tr>\n",
       "      <th>1</th>\n",
       "      <td>1</td>\n",
       "      <td>1</td>\n",
       "      <td>1.0</td>\n",
       "      <td>1</td>\n",
       "      <td>0.0</td>\n",
       "      <td>5.749213</td>\n",
       "      <td>0.75</td>\n",
       "      <td>1.0</td>\n",
       "      <td>0</td>\n",
       "      <td>0</td>\n",
       "      <td>1.975586</td>\n",
       "    </tr>\n",
       "    <tr>\n",
       "      <th>2</th>\n",
       "      <td>1</td>\n",
       "      <td>1</td>\n",
       "      <td>0.0</td>\n",
       "      <td>1</td>\n",
       "      <td>1.0</td>\n",
       "      <td>4.848104</td>\n",
       "      <td>0.75</td>\n",
       "      <td>1.0</td>\n",
       "      <td>2</td>\n",
       "      <td>1</td>\n",
       "      <td>1.964668</td>\n",
       "    </tr>\n",
       "    <tr>\n",
       "      <th>3</th>\n",
       "      <td>1</td>\n",
       "      <td>1</td>\n",
       "      <td>0.0</td>\n",
       "      <td>0</td>\n",
       "      <td>0.0</td>\n",
       "      <td>5.659617</td>\n",
       "      <td>0.75</td>\n",
       "      <td>1.0</td>\n",
       "      <td>2</td>\n",
       "      <td>1</td>\n",
       "      <td>1.972752</td>\n",
       "    </tr>\n",
       "    <tr>\n",
       "      <th>4</th>\n",
       "      <td>1</td>\n",
       "      <td>0</td>\n",
       "      <td>0.0</td>\n",
       "      <td>1</td>\n",
       "      <td>0.0</td>\n",
       "      <td>5.884239</td>\n",
       "      <td>0.75</td>\n",
       "      <td>1.0</td>\n",
       "      <td>2</td>\n",
       "      <td>1</td>\n",
       "      <td>1.975392</td>\n",
       "    </tr>\n",
       "  </tbody>\n",
       "</table>\n",
       "</div>"
      ],
      "text/plain": [
       "   Gender  Married  Dependents  Education  Self_Employed  LoanAmount  \\\n",
       "0       1        0         0.0          1            0.0    5.854141   \n",
       "1       1        1         1.0          1            0.0    5.749213   \n",
       "2       1        1         0.0          1            1.0    4.848104   \n",
       "3       1        1         0.0          0            0.0    5.659617   \n",
       "4       1        0         0.0          1            0.0    5.884239   \n",
       "\n",
       "   Loan_Amount_Term  Credit_History  Property_Area  Loan_Status  TotalIncome  \n",
       "0              0.75             1.0              2            1     1.975060  \n",
       "1              0.75             1.0              0            0     1.975586  \n",
       "2              0.75             1.0              2            1     1.964668  \n",
       "3              0.75             1.0              2            1     1.972752  \n",
       "4              0.75             1.0              2            1     1.975392  "
      ]
     },
     "execution_count": 68,
     "metadata": {},
     "output_type": "execute_result"
    }
   ],
   "source": [
    "data1.head()"
   ]
  },
  {
   "cell_type": "code",
   "execution_count": 69,
   "id": "71aa4d50",
   "metadata": {},
   "outputs": [
    {
     "data": {
      "image/png": "[encoded data removed]",
      "text/plain": [
       "<Figure size 1000x600 with 2 Axes>"
      ]
     },
     "metadata": {},
     "output_type": "display_data"
    }
   ],
   "source": [
    "plot_data(data2,'TotalIncome')"
   ]
  },
  {
   "cell_type": "code",
   "execution_count": 70,
   "id": "91167b7a",
   "metadata": {},
   "outputs": [
    {
     "data": {
      "image/png": "[encoded data removed]",
      "text/plain": [
       "<Figure size 1000x600 with 2 Axes>"
      ]
     },
     "metadata": {},
     "output_type": "display_data"
    }
   ],
   "source": [
    "plot_data(data2,'LoanAmount')"
   ]
  },
  {
   "cell_type": "code",
   "execution_count": 71,
   "id": "5b358477",
   "metadata": {},
   "outputs": [],
   "source": [
    "data2['TotalIncome'],parameters = stat.boxcox(data2['TotalIncome'])\n",
    "data2['LoanAmount'],parameters = stat.boxcox(data2['LoanAmount'])"
   ]
  },
  {
   "cell_type": "code",
   "execution_count": 72,
   "id": "898766ba",
   "metadata": {},
   "outputs": [
    {
     "data": {
      "image/png": "[encoded data removed]",
      "text/plain": [
       "<Figure size 1000x600 with 2 Axes>"
      ]
     },
     "metadata": {},
     "output_type": "display_data"
    }
   ],
   "source": [
    "plot_data(data2,'LoanAmount')"
   ]
  },
  {
   "cell_type": "code",
   "execution_count": 73,
   "id": "db215b32",
   "metadata": {},
   "outputs": [
    {
     "data": {
      "image/png": "[encoded data removed]",
      "text/plain": [
       "<Figure size 1000x600 with 2 Axes>"
      ]
     },
     "metadata": {},
     "output_type": "display_data"
    }
   ],
   "source": [
    "plot_data(data2,'TotalIncome')"
   ]
  },
  {
   "cell_type": "code",
   "execution_count": 74,
   "id": "97b0ca9a",
   "metadata": {},
   "outputs": [],
   "source": [
    "data2['Loan_Amount_Term'] = data2['Loan_Amount_Term']/data2['Loan_Amount_Term'].max()"
   ]
  },
  {
   "cell_type": "code",
   "execution_count": 75,
   "id": "ab601d87",
   "metadata": {},
   "outputs": [
    {
     "data": {
      "text/html": [
       "<div>\n",
       "<style scoped>\n",
       "    .dataframe tbody tr th:only-of-type {\n",
       "        vertical-align: middle;\n",
       "    }\n",
       "\n",
       "    .dataframe tbody tr th {\n",
       "        vertical-align: top;\n",
       "    }\n",
       "\n",
       "    .dataframe thead th {\n",
       "        text-align: right;\n",
       "    }\n",
       "</style>\n",
       "<table border=\"1\" class=\"dataframe\">\n",
       "  <thead>\n",
       "    <tr style=\"text-align: right;\">\n",
       "      <th></th>\n",
       "      <th>Gender</th>\n",
       "      <th>Married</th>\n",
       "      <th>Dependents</th>\n",
       "      <th>Education</th>\n",
       "      <th>Self_Employed</th>\n",
       "      <th>LoanAmount</th>\n",
       "      <th>Loan_Amount_Term</th>\n",
       "      <th>Credit_History</th>\n",
       "      <th>Property_Area</th>\n",
       "      <th>TotalIncome</th>\n",
       "    </tr>\n",
       "  </thead>\n",
       "  <tbody>\n",
       "    <tr>\n",
       "      <th>0</th>\n",
       "      <td>1</td>\n",
       "      <td>1</td>\n",
       "      <td>0.0</td>\n",
       "      <td>1</td>\n",
       "      <td>0.0</td>\n",
       "      <td>6.445091</td>\n",
       "      <td>0.75</td>\n",
       "      <td>1.0</td>\n",
       "      <td>2</td>\n",
       "      <td>1.786246</td>\n",
       "    </tr>\n",
       "    <tr>\n",
       "      <th>1</th>\n",
       "      <td>1</td>\n",
       "      <td>1</td>\n",
       "      <td>1.0</td>\n",
       "      <td>1</td>\n",
       "      <td>0.0</td>\n",
       "      <td>6.695016</td>\n",
       "      <td>0.75</td>\n",
       "      <td>1.0</td>\n",
       "      <td>2</td>\n",
       "      <td>1.784298</td>\n",
       "    </tr>\n",
       "    <tr>\n",
       "      <th>2</th>\n",
       "      <td>1</td>\n",
       "      <td>1</td>\n",
       "      <td>2.0</td>\n",
       "      <td>1</td>\n",
       "      <td>0.0</td>\n",
       "      <td>7.656032</td>\n",
       "      <td>0.75</td>\n",
       "      <td>1.0</td>\n",
       "      <td>2</td>\n",
       "      <td>1.787598</td>\n",
       "    </tr>\n",
       "    <tr>\n",
       "      <th>3</th>\n",
       "      <td>1</td>\n",
       "      <td>1</td>\n",
       "      <td>2.0</td>\n",
       "      <td>1</td>\n",
       "      <td>0.0</td>\n",
       "      <td>6.272259</td>\n",
       "      <td>0.75</td>\n",
       "      <td>1.0</td>\n",
       "      <td>2</td>\n",
       "      <td>1.784896</td>\n",
       "    </tr>\n",
       "    <tr>\n",
       "      <th>4</th>\n",
       "      <td>1</td>\n",
       "      <td>0</td>\n",
       "      <td>0.0</td>\n",
       "      <td>0</td>\n",
       "      <td>0.0</td>\n",
       "      <td>5.831492</td>\n",
       "      <td>0.75</td>\n",
       "      <td>1.0</td>\n",
       "      <td>2</td>\n",
       "      <td>1.780891</td>\n",
       "    </tr>\n",
       "  </tbody>\n",
       "</table>\n",
       "</div>"
      ],
      "text/plain": [
       "   Gender  Married  Dependents  Education  Self_Employed  LoanAmount  \\\n",
       "0       1        1         0.0          1            0.0    6.445091   \n",
       "1       1        1         1.0          1            0.0    6.695016   \n",
       "2       1        1         2.0          1            0.0    7.656032   \n",
       "3       1        1         2.0          1            0.0    6.272259   \n",
       "4       1        0         0.0          0            0.0    5.831492   \n",
       "\n",
       "   Loan_Amount_Term  Credit_History  Property_Area  TotalIncome  \n",
       "0              0.75             1.0              2     1.786246  \n",
       "1              0.75             1.0              2     1.784298  \n",
       "2              0.75             1.0              2     1.787598  \n",
       "3              0.75             1.0              2     1.784896  \n",
       "4              0.75             1.0              2     1.780891  "
      ]
     },
     "execution_count": 75,
     "metadata": {},
     "output_type": "execute_result"
    }
   ],
   "source": [
    "data2.head()"
   ]
  },
  {
   "cell_type": "code",
   "execution_count": 76,
   "id": "90d6be20",
   "metadata": {},
   "outputs": [
    {
     "data": {
      "application/vnd.jupyter.widget-view+json": {
       "model_id": "183a0f69b06646459772c1bbb83e99f5",
       "version_major": 2,
       "version_minor": 0
      },
      "text/plain": [
       "                                             |                                          | [  0%]   00:00 -> (?…"
      ]
     },
     "metadata": {},
     "output_type": "display_data"
    }
   ],
   "source": [
    "my_report = sweetviz.analyze([data1,\"Train\"],target_feat = 'Loan_Status')"
   ]
  },
  {
   "cell_type": "code",
   "execution_count": 77,
   "id": "b2ff9b89",
   "metadata": {},
   "outputs": [
    {
     "name": "stdout",
     "output_type": "stream",
     "text": [
      "Report analysis_after_transformation.html was generated! NOTEBOOK/COLAB USERS: the web browser MAY not pop up, regardless, the report IS saved in your notebook/colab files.\n"
     ]
    }
   ],
   "source": [
    "my_report.show_html('analysis_after_transformation.html')"
   ]
  },
  {
   "cell_type": "markdown",
   "id": "6d6c62ab",
   "metadata": {},
   "source": [
    "### Model Training"
   ]
  },
  {
   "cell_type": "code",
   "execution_count": 78,
   "id": "b40642ae",
   "metadata": {},
   "outputs": [
    {
     "data": {
      "text/html": [
       "<div>\n",
       "<style scoped>\n",
       "    .dataframe tbody tr th:only-of-type {\n",
       "        vertical-align: middle;\n",
       "    }\n",
       "\n",
       "    .dataframe tbody tr th {\n",
       "        vertical-align: top;\n",
       "    }\n",
       "\n",
       "    .dataframe thead th {\n",
       "        text-align: right;\n",
       "    }\n",
       "</style>\n",
       "<table border=\"1\" class=\"dataframe\">\n",
       "  <thead>\n",
       "    <tr style=\"text-align: right;\">\n",
       "      <th></th>\n",
       "      <th>Gender</th>\n",
       "      <th>Married</th>\n",
       "      <th>Dependents</th>\n",
       "      <th>Education</th>\n",
       "      <th>Self_Employed</th>\n",
       "      <th>LoanAmount</th>\n",
       "      <th>Loan_Amount_Term</th>\n",
       "      <th>Credit_History</th>\n",
       "      <th>Property_Area</th>\n",
       "      <th>Loan_Status</th>\n",
       "      <th>TotalIncome</th>\n",
       "    </tr>\n",
       "  </thead>\n",
       "  <tbody>\n",
       "    <tr>\n",
       "      <th>0</th>\n",
       "      <td>1</td>\n",
       "      <td>0</td>\n",
       "      <td>0.0</td>\n",
       "      <td>1</td>\n",
       "      <td>0.0</td>\n",
       "      <td>5.854141</td>\n",
       "      <td>0.750</td>\n",
       "      <td>1.0</td>\n",
       "      <td>2</td>\n",
       "      <td>1</td>\n",
       "      <td>1.975060</td>\n",
       "    </tr>\n",
       "    <tr>\n",
       "      <th>1</th>\n",
       "      <td>1</td>\n",
       "      <td>1</td>\n",
       "      <td>1.0</td>\n",
       "      <td>1</td>\n",
       "      <td>0.0</td>\n",
       "      <td>5.749213</td>\n",
       "      <td>0.750</td>\n",
       "      <td>1.0</td>\n",
       "      <td>0</td>\n",
       "      <td>0</td>\n",
       "      <td>1.975586</td>\n",
       "    </tr>\n",
       "    <tr>\n",
       "      <th>2</th>\n",
       "      <td>1</td>\n",
       "      <td>1</td>\n",
       "      <td>0.0</td>\n",
       "      <td>1</td>\n",
       "      <td>1.0</td>\n",
       "      <td>4.848104</td>\n",
       "      <td>0.750</td>\n",
       "      <td>1.0</td>\n",
       "      <td>2</td>\n",
       "      <td>1</td>\n",
       "      <td>1.964668</td>\n",
       "    </tr>\n",
       "    <tr>\n",
       "      <th>3</th>\n",
       "      <td>1</td>\n",
       "      <td>1</td>\n",
       "      <td>0.0</td>\n",
       "      <td>0</td>\n",
       "      <td>0.0</td>\n",
       "      <td>5.659617</td>\n",
       "      <td>0.750</td>\n",
       "      <td>1.0</td>\n",
       "      <td>2</td>\n",
       "      <td>1</td>\n",
       "      <td>1.972752</td>\n",
       "    </tr>\n",
       "    <tr>\n",
       "      <th>4</th>\n",
       "      <td>1</td>\n",
       "      <td>0</td>\n",
       "      <td>0.0</td>\n",
       "      <td>1</td>\n",
       "      <td>0.0</td>\n",
       "      <td>5.884239</td>\n",
       "      <td>0.750</td>\n",
       "      <td>1.0</td>\n",
       "      <td>2</td>\n",
       "      <td>1</td>\n",
       "      <td>1.975392</td>\n",
       "    </tr>\n",
       "    <tr>\n",
       "      <th>...</th>\n",
       "      <td>...</td>\n",
       "      <td>...</td>\n",
       "      <td>...</td>\n",
       "      <td>...</td>\n",
       "      <td>...</td>\n",
       "      <td>...</td>\n",
       "      <td>...</td>\n",
       "      <td>...</td>\n",
       "      <td>...</td>\n",
       "      <td>...</td>\n",
       "      <td>...</td>\n",
       "    </tr>\n",
       "    <tr>\n",
       "      <th>609</th>\n",
       "      <td>0</td>\n",
       "      <td>0</td>\n",
       "      <td>0.0</td>\n",
       "      <td>1</td>\n",
       "      <td>0.0</td>\n",
       "      <td>4.945468</td>\n",
       "      <td>0.750</td>\n",
       "      <td>1.0</td>\n",
       "      <td>0</td>\n",
       "      <td>1</td>\n",
       "      <td>1.964042</td>\n",
       "    </tr>\n",
       "    <tr>\n",
       "      <th>610</th>\n",
       "      <td>1</td>\n",
       "      <td>1</td>\n",
       "      <td>3.0</td>\n",
       "      <td>1</td>\n",
       "      <td>0.0</td>\n",
       "      <td>4.193304</td>\n",
       "      <td>0.375</td>\n",
       "      <td>1.0</td>\n",
       "      <td>0</td>\n",
       "      <td>1</td>\n",
       "      <td>1.969985</td>\n",
       "    </tr>\n",
       "    <tr>\n",
       "      <th>611</th>\n",
       "      <td>1</td>\n",
       "      <td>1</td>\n",
       "      <td>1.0</td>\n",
       "      <td>1</td>\n",
       "      <td>0.0</td>\n",
       "      <td>6.719526</td>\n",
       "      <td>0.750</td>\n",
       "      <td>1.0</td>\n",
       "      <td>2</td>\n",
       "      <td>1</td>\n",
       "      <td>1.979286</td>\n",
       "    </tr>\n",
       "    <tr>\n",
       "      <th>612</th>\n",
       "      <td>1</td>\n",
       "      <td>1</td>\n",
       "      <td>2.0</td>\n",
       "      <td>1</td>\n",
       "      <td>0.0</td>\n",
       "      <td>6.283495</td>\n",
       "      <td>0.750</td>\n",
       "      <td>1.0</td>\n",
       "      <td>2</td>\n",
       "      <td>1</td>\n",
       "      <td>1.978253</td>\n",
       "    </tr>\n",
       "    <tr>\n",
       "      <th>613</th>\n",
       "      <td>0</td>\n",
       "      <td>0</td>\n",
       "      <td>0.0</td>\n",
       "      <td>1</td>\n",
       "      <td>1.0</td>\n",
       "      <td>5.802596</td>\n",
       "      <td>0.750</td>\n",
       "      <td>0.0</td>\n",
       "      <td>1</td>\n",
       "      <td>0</td>\n",
       "      <td>1.971658</td>\n",
       "    </tr>\n",
       "  </tbody>\n",
       "</table>\n",
       "<p>614 rows × 11 columns</p>\n",
       "</div>"
      ],
      "text/plain": [
       "     Gender  Married  Dependents  Education  Self_Employed  LoanAmount  \\\n",
       "0         1        0         0.0          1            0.0    5.854141   \n",
       "1         1        1         1.0          1            0.0    5.749213   \n",
       "2         1        1         0.0          1            1.0    4.848104   \n",
       "3         1        1         0.0          0            0.0    5.659617   \n",
       "4         1        0         0.0          1            0.0    5.884239   \n",
       "..      ...      ...         ...        ...            ...         ...   \n",
       "609       0        0         0.0          1            0.0    4.945468   \n",
       "610       1        1         3.0          1            0.0    4.193304   \n",
       "611       1        1         1.0          1            0.0    6.719526   \n",
       "612       1        1         2.0          1            0.0    6.283495   \n",
       "613       0        0         0.0          1            1.0    5.802596   \n",
       "\n",
       "     Loan_Amount_Term  Credit_History  Property_Area  Loan_Status  TotalIncome  \n",
       "0               0.750             1.0              2            1     1.975060  \n",
       "1               0.750             1.0              0            0     1.975586  \n",
       "2               0.750             1.0              2            1     1.964668  \n",
       "3               0.750             1.0              2            1     1.972752  \n",
       "4               0.750             1.0              2            1     1.975392  \n",
       "..                ...             ...            ...          ...          ...  \n",
       "609             0.750             1.0              0            1     1.964042  \n",
       "610             0.375             1.0              0            1     1.969985  \n",
       "611             0.750             1.0              2            1     1.979286  \n",
       "612             0.750             1.0              2            1     1.978253  \n",
       "613             0.750             0.0              1            0     1.971658  \n",
       "\n",
       "[614 rows x 11 columns]"
      ]
     },
     "execution_count": 78,
     "metadata": {},
     "output_type": "execute_result"
    }
   ],
   "source": [
    "data1"
   ]
  },
  {
   "cell_type": "code",
   "execution_count": 79,
   "id": "3ab62ead",
   "metadata": {},
   "outputs": [],
   "source": [
    "from sklearn.model_selection import RandomizedSearchCV,GridSearchCV"
   ]
  },
  {
   "cell_type": "code",
   "execution_count": 80,
   "id": "5f12e211",
   "metadata": {},
   "outputs": [],
   "source": [
    "X = data1.drop('Loan_Status',axis = 1)\n",
    "y = data1['Loan_Status']"
   ]
  },
  {
   "cell_type": "markdown",
   "id": "3610b4fa",
   "metadata": {},
   "source": [
    "##### Logistic Regression"
   ]
  },
  {
   "cell_type": "code",
   "execution_count": 81,
   "id": "a867d5e2",
   "metadata": {},
   "outputs": [],
   "source": [
    "params = {\n",
    "    'C':stat.loguniform(1e-5,100),\n",
    "    'solver' :['newton-cg', 'lbfgs', 'liblinear'],\n",
    "    'penalty':['none', 'l1', 'l2', 'elasticnet']\n",
    "}"
   ]
  },
  {
   "cell_type": "code",
   "execution_count": 82,
   "id": "fbad152f",
   "metadata": {},
   "outputs": [],
   "source": [
    "from sklearn.linear_model import LogisticRegression\n",
    "lr = LogisticRegression()"
   ]
  },
  {
   "cell_type": "code",
   "execution_count": 83,
   "id": "45dc229f",
   "metadata": {},
   "outputs": [],
   "source": [
    "random_search1 = RandomizedSearchCV(lr,param_distributions=params,n_iter = 5,scoring = 'accuracy',n_jobs = -1,cv = 5,verbose = 3)"
   ]
  },
  {
   "cell_type": "code",
   "execution_count": 84,
   "id": "ad1fd79c",
   "metadata": {},
   "outputs": [
    {
     "name": "stdout",
     "output_type": "stream",
     "text": [
      "Fitting 5 folds for each of 5 candidates, totalling 25 fits\n"
     ]
    },
    {
     "name": "stderr",
     "output_type": "stream",
     "text": [
      "C:\\Users\\shray\\anaconda3\\envs\\loan_prediction\\lib\\site-packages\\sklearn\\model_selection\\_validation.py:372: FitFailedWarning: \n",
      "5 fits failed out of a total of 25.\n",
      "The score on these train-test partitions for these parameters will be set to nan.\n",
      "If these failures are not expected, you can try to debug them by setting error_score='raise'.\n",
      "\n",
      "Below are more details about the failures:\n",
      "--------------------------------------------------------------------------------\n",
      "5 fits failed with the following error:\n",
      "Traceback (most recent call last):\n",
      "  File \"C:\\Users\\shray\\anaconda3\\envs\\loan_prediction\\lib\\site-packages\\sklearn\\model_selection\\_validation.py\", line 680, in _fit_and_score\n",
      "    estimator.fit(X_train, y_train, **fit_params)\n",
      "  File \"C:\\Users\\shray\\anaconda3\\envs\\loan_prediction\\lib\\site-packages\\sklearn\\linear_model\\_logistic.py\", line 1461, in fit\n",
      "    solver = _check_solver(self.solver, self.penalty, self.dual)\n",
      "  File \"C:\\Users\\shray\\anaconda3\\envs\\loan_prediction\\lib\\site-packages\\sklearn\\linear_model\\_logistic.py\", line 464, in _check_solver\n",
      "    raise ValueError(\"penalty='none' is not supported for the liblinear solver\")\n",
      "ValueError: penalty='none' is not supported for the liblinear solver\n",
      "\n",
      "  warnings.warn(some_fits_failed_message, FitFailedWarning)\n",
      "C:\\Users\\shray\\anaconda3\\envs\\loan_prediction\\lib\\site-packages\\sklearn\\model_selection\\_search.py:972: UserWarning: One or more of the test scores are non-finite: [0.8306544 0.8306544       nan 0.8306544 0.8306544]\n",
      "  category=UserWarning,\n"
     ]
    },
    {
     "data": {
      "text/plain": [
       "RandomizedSearchCV(cv=5, estimator=LogisticRegression(), n_iter=5, n_jobs=-1,\n",
       "                   param_distributions={'C': <scipy.stats._distn_infrastructure.rv_frozen object at 0x000001B52A9D5D88>,\n",
       "                                        'penalty': ['none', 'l1', 'l2',\n",
       "                                                    'elasticnet'],\n",
       "                                        'solver': ['newton-cg', 'lbfgs',\n",
       "                                                   'liblinear']},\n",
       "                   scoring='accuracy', verbose=3)"
      ]
     },
     "execution_count": 84,
     "metadata": {},
     "output_type": "execute_result"
    }
   ],
   "source": [
    "random_search1.fit(X,y)"
   ]
  },
  {
   "cell_type": "code",
   "execution_count": 85,
   "id": "da93eef4",
   "metadata": {},
   "outputs": [
    {
     "data": {
      "text/plain": [
       "{'C': 64.32014520053808, 'penalty': 'l2', 'solver': 'liblinear'}"
      ]
     },
     "execution_count": 85,
     "metadata": {},
     "output_type": "execute_result"
    }
   ],
   "source": [
    "random_search1.best_params_"
   ]
  },
  {
   "cell_type": "code",
   "execution_count": 86,
   "id": "0f31852d",
   "metadata": {},
   "outputs": [],
   "source": [
    "model1 = random_search1.best_estimator_"
   ]
  },
  {
   "cell_type": "code",
   "execution_count": 87,
   "id": "6b04922e",
   "metadata": {},
   "outputs": [],
   "source": [
    "from sklearn.model_selection import cross_val_score\n",
    "score = cross_val_score(model1,X,y,cv = 10)"
   ]
  },
  {
   "cell_type": "code",
   "execution_count": 88,
   "id": "bc1a2db5",
   "metadata": {},
   "outputs": [
    {
     "data": {
      "text/plain": [
       "0.8306980433632999"
      ]
     },
     "execution_count": 88,
     "metadata": {},
     "output_type": "execute_result"
    }
   ],
   "source": [
    "score.mean()"
   ]
  },
  {
   "cell_type": "markdown",
   "id": "4a2c4fe4",
   "metadata": {},
   "source": [
    "##### SVC"
   ]
  },
  {
   "cell_type": "code",
   "execution_count": 89,
   "id": "1e254ea2",
   "metadata": {},
   "outputs": [],
   "source": [
    "from sklearn.svm import SVC"
   ]
  },
  {
   "cell_type": "code",
   "execution_count": 90,
   "id": "3ee4c9ed",
   "metadata": {},
   "outputs": [],
   "source": [
    "svc = SVC(probability = True)"
   ]
  },
  {
   "cell_type": "code",
   "execution_count": 91,
   "id": "3f66a0ed",
   "metadata": {},
   "outputs": [],
   "source": [
    "params = {\"C\": stat.uniform(2, 10),\n",
    "             \"gamma\": stat.uniform(0.1, 1),\n",
    "          \"kernel\":['poly','rbf','sigmoid']\n",
    "         }"
   ]
  },
  {
   "cell_type": "code",
   "execution_count": 92,
   "id": "1a98cb55",
   "metadata": {},
   "outputs": [],
   "source": [
    "random_search2 = RandomizedSearchCV(svc,param_distributions=params,n_iter = 5,scoring = 'accuracy',n_jobs = -1,cv = 5,verbose = 3)"
   ]
  },
  {
   "cell_type": "code",
   "execution_count": 93,
   "id": "45c43f90",
   "metadata": {},
   "outputs": [
    {
     "name": "stdout",
     "output_type": "stream",
     "text": [
      "Fitting 5 folds for each of 5 candidates, totalling 25 fits\n"
     ]
    },
    {
     "data": {
      "text/plain": [
       "RandomizedSearchCV(cv=5, estimator=SVC(probability=True), n_iter=5, n_jobs=-1,\n",
       "                   param_distributions={'C': <scipy.stats._distn_infrastructure.rv_frozen object at 0x000001B5212F83C8>,\n",
       "                                        'gamma': <scipy.stats._distn_infrastructure.rv_frozen object at 0x000001B5212F8648>,\n",
       "                                        'kernel': ['poly', 'rbf', 'sigmoid']},\n",
       "                   scoring='accuracy', verbose=3)"
      ]
     },
     "execution_count": 93,
     "metadata": {},
     "output_type": "execute_result"
    }
   ],
   "source": [
    "random_search2.fit(X,y)"
   ]
  },
  {
   "cell_type": "code",
   "execution_count": 94,
   "id": "1feb654d",
   "metadata": {},
   "outputs": [
    {
     "data": {
      "text/plain": [
       "{'C': 3.9546182187334074, 'gamma': 0.12530822654631393, 'kernel': 'rbf'}"
      ]
     },
     "execution_count": 94,
     "metadata": {},
     "output_type": "execute_result"
    }
   ],
   "source": [
    "random_search2.best_params_"
   ]
  },
  {
   "cell_type": "code",
   "execution_count": 95,
   "id": "a4c74eb0",
   "metadata": {},
   "outputs": [],
   "source": [
    "model2 = random_search2.best_estimator_"
   ]
  },
  {
   "cell_type": "code",
   "execution_count": 96,
   "id": "ee60be8c",
   "metadata": {},
   "outputs": [],
   "source": [
    "score = cross_val_score(model2,X,y,cv = 10)"
   ]
  },
  {
   "cell_type": "code",
   "execution_count": 97,
   "id": "b3c0f6cc",
   "metadata": {},
   "outputs": [
    {
     "data": {
      "text/plain": [
       "0.8306980433632999"
      ]
     },
     "execution_count": 97,
     "metadata": {},
     "output_type": "execute_result"
    }
   ],
   "source": [
    "score.mean()"
   ]
  },
  {
   "cell_type": "markdown",
   "id": "db890500",
   "metadata": {},
   "source": [
    "##### RandomForest"
   ]
  },
  {
   "cell_type": "code",
   "execution_count": 98,
   "id": "a68a09a2",
   "metadata": {},
   "outputs": [],
   "source": [
    "from sklearn.ensemble import RandomForestClassifier\n",
    "rf = RandomForestClassifier(random_state = 42)"
   ]
  },
  {
   "cell_type": "code",
   "execution_count": 99,
   "id": "918a8643",
   "metadata": {},
   "outputs": [],
   "source": [
    "params = {\n",
    "    'bootstrap': [True, False],\n",
    " 'max_depth': [10, 20, 30, 40, 50, 60, 70, 80, 90, 100, None],\n",
    " 'max_features': ['auto', 'sqrt'],\n",
    " 'min_samples_leaf': [1, 2, 4,6,8,10],\n",
    " 'min_samples_split': [2, 5,7,9, 10],\n",
    " 'n_estimators': [int(x) for x in np.linspace(start = 1, stop = 100, num = 50)]}"
   ]
  },
  {
   "cell_type": "code",
   "execution_count": 100,
   "id": "ca4468d2",
   "metadata": {},
   "outputs": [],
   "source": [
    "random_search3 = RandomizedSearchCV(rf,param_distributions=params,n_iter = 5,scoring = 'accuracy',n_jobs = -1,cv = 5,verbose = 3)"
   ]
  },
  {
   "cell_type": "code",
   "execution_count": 101,
   "id": "df199fa2",
   "metadata": {},
   "outputs": [
    {
     "name": "stdout",
     "output_type": "stream",
     "text": [
      "Fitting 5 folds for each of 5 candidates, totalling 25 fits\n"
     ]
    },
    {
     "data": {
      "text/plain": [
       "RandomizedSearchCV(cv=5, estimator=RandomForestClassifier(random_state=42),\n",
       "                   n_iter=5, n_jobs=-1,\n",
       "                   param_distributions={'bootstrap': [True, False],\n",
       "                                        'max_depth': [10, 20, 30, 40, 50, 60,\n",
       "                                                      70, 80, 90, 100, None],\n",
       "                                        'max_features': ['auto', 'sqrt'],\n",
       "                                        'min_samples_leaf': [1, 2, 4, 6, 8, 10],\n",
       "                                        'min_samples_split': [2, 5, 7, 9, 10],\n",
       "                                        'n_estimators': [1, 3, 5, 7, 9, 11, 13,\n",
       "                                                         15, 17, 19, 21, 23, 25,\n",
       "                                                         27, 29, 31, 33, 35, 37,\n",
       "                                                         39, 41, 43, 45, 47, 49,\n",
       "                                                         51, 53, 55, 57, 59, ...]},\n",
       "                   scoring='accuracy', verbose=3)"
      ]
     },
     "execution_count": 101,
     "metadata": {},
     "output_type": "execute_result"
    }
   ],
   "source": [
    "random_search3.fit(X,y)"
   ]
  },
  {
   "cell_type": "code",
   "execution_count": 102,
   "id": "4ac59e8b",
   "metadata": {},
   "outputs": [
    {
     "data": {
      "text/plain": [
       "{'n_estimators': 19,\n",
       " 'min_samples_split': 7,\n",
       " 'min_samples_leaf': 8,\n",
       " 'max_features': 'auto',\n",
       " 'max_depth': 30,\n",
       " 'bootstrap': False}"
      ]
     },
     "execution_count": 102,
     "metadata": {},
     "output_type": "execute_result"
    }
   ],
   "source": [
    "random_search3.best_params_"
   ]
  },
  {
   "cell_type": "code",
   "execution_count": 103,
   "id": "19ab9741",
   "metadata": {},
   "outputs": [],
   "source": [
    "model3 = random_search3.best_estimator_"
   ]
  },
  {
   "cell_type": "code",
   "execution_count": 104,
   "id": "7a0e5f2d",
   "metadata": {},
   "outputs": [],
   "source": [
    "score = cross_val_score(model3,X,y,cv = 10)"
   ]
  },
  {
   "cell_type": "code",
   "execution_count": 105,
   "id": "98ef238b",
   "metadata": {},
   "outputs": [
    {
     "data": {
      "text/plain": [
       "0.8258064516129032"
      ]
     },
     "execution_count": 105,
     "metadata": {},
     "output_type": "execute_result"
    }
   ],
   "source": [
    "score.mean()"
   ]
  },
  {
   "cell_type": "markdown",
   "id": "e8f34022",
   "metadata": {},
   "source": [
    "##### XgBoost"
   ]
  },
  {
   "cell_type": "code",
   "execution_count": 106,
   "id": "36eecf02",
   "metadata": {},
   "outputs": [],
   "source": [
    "import xgboost"
   ]
  },
  {
   "cell_type": "code",
   "execution_count": 107,
   "id": "48348672",
   "metadata": {},
   "outputs": [],
   "source": [
    "from xgboost import XGBClassifier"
   ]
  },
  {
   "cell_type": "code",
   "execution_count": 108,
   "id": "6ef60c12",
   "metadata": {},
   "outputs": [],
   "source": [
    "xgb = XGBClassifier()"
   ]
  },
  {
   "cell_type": "code",
   "execution_count": 109,
   "id": "7f51312a",
   "metadata": {},
   "outputs": [],
   "source": [
    "params = {\n",
    "        'min_child_weight': [1,2,3,4,5,6,7,8,9,10],\n",
    "        'gamma': [0.5, 1, 1.5, 2, 5],\n",
    "        'subsample': [0.1,0.2,0.3,0.4,0.5,0.6,0.7, 0.8, 0.9,1.0],\n",
    "        'colsample_bytree': [0.1,0.2,0.3,0.4,0.5,0.6,0.7, 0.8,0.9, 1.0],\n",
    "        'max_depth': [1,2,3, 4, 5,6,7,8,9,10]\n",
    "        }"
   ]
  },
  {
   "cell_type": "code",
   "execution_count": 110,
   "id": "42377dc5",
   "metadata": {},
   "outputs": [],
   "source": [
    "random_search4 = RandomizedSearchCV(xgb,param_distributions=params,n_iter = 5,scoring = 'accuracy',n_jobs = -1,cv = 5,verbose = 3)"
   ]
  },
  {
   "cell_type": "code",
   "execution_count": 111,
   "id": "6554f43d",
   "metadata": {},
   "outputs": [
    {
     "name": "stdout",
     "output_type": "stream",
     "text": [
      "Fitting 5 folds for each of 5 candidates, totalling 25 fits\n"
     ]
    },
    {
     "data": {
      "text/plain": [
       "RandomizedSearchCV(cv=5,\n",
       "                   estimator=XGBClassifier(base_score=None, booster=None,\n",
       "                                           callbacks=None,\n",
       "                                           colsample_bylevel=None,\n",
       "                                           colsample_bynode=None,\n",
       "                                           colsample_bytree=None,\n",
       "                                           early_stopping_rounds=None,\n",
       "                                           enable_categorical=False,\n",
       "                                           eval_metric=None, gamma=None,\n",
       "                                           gpu_id=None, grow_policy=None,\n",
       "                                           importance_type=None,\n",
       "                                           interaction_constraints=None,\n",
       "                                           learning_rate=None, max_bin=None,...\n",
       "                                           predictor=None, random_state=None,\n",
       "                                           reg_alpha=None, reg_lambda=None, ...),\n",
       "                   n_iter=5, n_jobs=-1,\n",
       "                   param_distributions={'colsample_bytree': [0.1, 0.2, 0.3, 0.4,\n",
       "                                                             0.5, 0.6, 0.7, 0.8,\n",
       "                                                             0.9, 1.0],\n",
       "                                        'gamma': [0.5, 1, 1.5, 2, 5],\n",
       "                                        'max_depth': [1, 2, 3, 4, 5, 6, 7, 8, 9,\n",
       "                                                      10],\n",
       "                                        'min_child_weight': [1, 2, 3, 4, 5, 6,\n",
       "                                                             7, 8, 9, 10],\n",
       "                                        'subsample': [0.1, 0.2, 0.3, 0.4, 0.5,\n",
       "                                                      0.6, 0.7, 0.8, 0.9,\n",
       "                                                      1.0]},\n",
       "                   scoring='accuracy', verbose=3)"
      ]
     },
     "execution_count": 111,
     "metadata": {},
     "output_type": "execute_result"
    }
   ],
   "source": [
    "random_search4.fit(X,y)"
   ]
  },
  {
   "cell_type": "code",
   "execution_count": 112,
   "id": "442bb9d7",
   "metadata": {},
   "outputs": [
    {
     "data": {
      "text/plain": [
       "{'subsample': 0.7,\n",
       " 'min_child_weight': 4,\n",
       " 'max_depth': 3,\n",
       " 'gamma': 5,\n",
       " 'colsample_bytree': 0.3}"
      ]
     },
     "execution_count": 112,
     "metadata": {},
     "output_type": "execute_result"
    }
   ],
   "source": [
    "random_search4.best_params_"
   ]
  },
  {
   "cell_type": "code",
   "execution_count": 113,
   "id": "ad63d89b",
   "metadata": {},
   "outputs": [],
   "source": [
    "model4 = random_search4.best_estimator_"
   ]
  },
  {
   "cell_type": "code",
   "execution_count": 114,
   "id": "834c2e05",
   "metadata": {},
   "outputs": [],
   "source": [
    "score = cross_val_score(model4,X,y,cv = 10)"
   ]
  },
  {
   "cell_type": "code",
   "execution_count": 115,
   "id": "097bbe83",
   "metadata": {},
   "outputs": [
    {
     "data": {
      "text/plain": [
       "0.8290586991010048"
      ]
     },
     "execution_count": 115,
     "metadata": {},
     "output_type": "execute_result"
    }
   ],
   "source": [
    "score.mean()"
   ]
  },
  {
   "cell_type": "markdown",
   "id": "4e7b29be",
   "metadata": {},
   "source": [
    "##### Main Model"
   ]
  },
  {
   "cell_type": "code",
   "execution_count": 116,
   "id": "3f5c03d9",
   "metadata": {},
   "outputs": [],
   "source": [
    "main_model = model1"
   ]
  },
  {
   "cell_type": "code",
   "execution_count": 117,
   "id": "7f57ea67",
   "metadata": {},
   "outputs": [
    {
     "data": {
      "text/plain": [
       "LogisticRegression(C=64.32014520053808, solver='liblinear')"
      ]
     },
     "execution_count": 117,
     "metadata": {},
     "output_type": "execute_result"
    }
   ],
   "source": [
    "main_model.fit(X,y)"
   ]
  },
  {
   "cell_type": "markdown",
   "id": "944c4f44",
   "metadata": {},
   "source": [
    "###### Pickle main model"
   ]
  },
  {
   "cell_type": "code",
   "execution_count": 118,
   "id": "f9b4accc",
   "metadata": {},
   "outputs": [],
   "source": [
    "import pickle\n",
    "pickle_out = open(\"loan_prediction.pkl\",\"wb\")\n",
    "pickle.dump(main_model,pickle_out)\n",
    "pickle_out.close()"
   ]
  },
  {
   "cell_type": "code",
   "execution_count": null,
   "id": "325c283f",
   "metadata": {},
   "outputs": [],
   "source": []
  }
 ],
 "metadata": {
  "kernelspec": {
   "display_name": "Python 3 (ipykernel)",
   "language": "python",
   "name": "python3"
  },
  "language_info": {
   "codemirror_mode": {
    "name": "ipython",
    "version": 3
   },
   "file_extension": ".py",
   "mimetype": "text/x-python",
   "name": "python",
   "nbconvert_exporter": "python",
   "pygments_lexer": "ipython3",
   "version": "3.7.13"
  }
 },
 "nbformat": 4,
 "nbformat_minor": 5
}
